{
 "cells": [
  {
   "cell_type": "markdown",
   "metadata": {},
   "source": [
    "<h1>Trie (Keyword Tree)</h1>"
   ]
  },
  {
   "cell_type": "markdown",
   "metadata": {},
   "source": [
    "A Trie or Keyword tree is a search tree, usually used to search strings. Every child node of a given node in this tree share the same prefix up to that node. Common applications for this data structure include genome analysis, search autocomplete and data analysis. Here we implement a basic trie in C++11 capable of doing insertions and searches."
   ]
  },
  {
   "cell_type": "markdown",
   "metadata": {},
   "source": [
    "<h3>How does a Trie works?</h3>"
   ]
  },
  {
   "cell_type": "markdown",
   "metadata": {},
   "source": [
    "Tries are usually used on data that can be represented in a string format, as a mean to simplificate the explanation we will only be dealing with strings here. Each node on a Trie represents a charachter on the string, the nodes are stored in a top to bottom approach where it's ancestors represent it's prefix. We can see in Figure 1 a Trie after adding the word \"Ball\"."
   ]
  },
  {
   "cell_type": "markdown",
   "metadata": {},
   "source": [
    "![Figure 1: Trie after inserting the word \"Ball\".](Trie1.png)\n",
    "<b>Figure 1:</b> Trie after inserting the word \"Ball\"."
   ]
  },
  {
   "cell_type": "markdown",
   "metadata": {},
   "source": [
    "As shown in the tree in Figure 1, in the word \"Ball\", the node representing \"a\" in the seccond layer is predecessed by \"B\", similarly the first \"l\" has nodes \"Ba\" as it's ancestors. The trie allow us to interpret the string as a graph and store the data more efficiently by writting only once the common preffix the strings stored, we can see it on the tree in figure 2 where the words \"sweet\", \"sheep\" and \"ship were inserted."
   ]
  },
  {
   "cell_type": "markdown",
   "metadata": {},
   "source": [
    "<center>\n",
    "<img src=\"Trie2.png\"/>\n",
    "<b>Figure 2:</b> Trie after inserting the words \"sweet\", \"sheep\" and \"ship\"\n",
    "</center>"
   ]
  },
  {
   "cell_type": "markdown",
   "metadata": {},
   "source": [
    "<h3>Including necessary libraries</h3>"
   ]
  },
  {
   "cell_type": "markdown",
   "metadata": {},
   "source": [
    "We will represent every chilld node of a given node by a hash and use the node's key as the hash's key which allows for O(1) lookups. I'm personally not a fan of typing \"std::\" all the damm time and this is a small project so let's use namespace std. The beggining of the file should look something like this."
   ]
  },
  {
   "cell_type": "code",
   "execution_count": null,
   "metadata": {
    "collapsed": true
   },
   "outputs": [],
   "source": [
    "#include <unordered_map>\n",
    "\n",
    "using namespace std;"
   ]
  },
  {
   "cell_type": "markdown",
   "metadata": {},
   "source": [
    "<h3>The Node</h3>"
   ]
  },
  {
   "cell_type": "markdown",
   "metadata": {},
   "source": [
    "Each node will have a children Hash which will map a character in that position to it's following nodes. It is also usefull to know if our node represent the end of a word and if it's a leaf node. We also created a default constructor so that the values are preset once the node is initialized. With this in mind our structure must look something like this."
   ]
  },
  {
   "cell_type": "code",
   "execution_count": null,
   "metadata": {
    "collapsed": true
   },
   "outputs": [],
   "source": [
    "struct Node{\n",
    "\tunordered_map<char, Node*> children;\n",
    "\tbool endOfWord;\n",
    "\tbool isLeaf;\n",
    "\tNode(){\n",
    "\t\tendOfWord = false;\n",
    "\t\tisLeaf = true;\n",
    "\t}\n",
    "};"
   ]
  },
  {
   "cell_type": "markdown",
   "metadata": {},
   "source": [
    "<h3>The Trie class</h3>"
   ]
  },
  {
   "cell_type": "markdown",
   "metadata": {},
   "source": [
    "We chose to represent our Trie as a class so that we can implement good programming practices such as keeping private methods private. The root Node is represented as a pointer to a node and is allocated once the object is initialized, as said before, we also implemented the insert search method.\n",
    "\n",
    "Since we are allocating the Node pointers as a tree we will have to writte our own destructor. The destructor should be able to visit every node in the tree deallocating the memory. We can achieve that by visiting all child nodes recursively and dealocating them as once all children nodes were visited. This is done by calling the remove method on the destructor which calls itself recursively.\n",
    "\n",
    "By now, our class is looking like the code bellow:"
   ]
  },
  {
   "cell_type": "code",
   "execution_count": null,
   "metadata": {
    "collapsed": true
   },
   "outputs": [],
   "source": [
    "class Trie{\n",
    "private:\n",
    "    Node *root;\n",
    "    void remove(Node *n);\n",
    "public:\n",
    "    Trie();\n",
    "    ~Trie();\n",
    "    \n",
    "    void insert(string str);\n",
    "    bool search(string str);\n",
    "};\n"
   ]
  },
  {
   "cell_type": "code",
   "execution_count": null,
   "metadata": {
    "collapsed": true
   },
   "outputs": [],
   "source": [
    "Trie::Trie(){\n",
    "    root = new Node();\n",
    "}"
   ]
  },
  {
   "cell_type": "markdown",
   "metadata": {
    "collapsed": true
   },
   "source": [
    "<h6>The destructor</h6>"
   ]
  },
  {
   "cell_type": "markdown",
   "metadata": {},
   "source": [
    "The destructor only calls the remove method passing the root node as a paramter, the remove method free the memory recursively as described earlier. Both, the destructor and remove are shown in the code bellow."
   ]
  },
  {
   "cell_type": "code",
   "execution_count": null,
   "metadata": {
    "collapsed": true
   },
   "outputs": [],
   "source": [
    "Trie::~Trie(){\n",
    "    remove(root);\n",
    "}"
   ]
  },
  {
   "cell_type": "code",
   "execution_count": null,
   "metadata": {
    "collapsed": true
   },
   "outputs": [],
   "source": [
    "void Trie::remove(Node *n){\n",
    "    // Loop thru every child node visiting it recursivelly\n",
    "    for(pair<char,Node*> p: n->children)\n",
    "        remove(p.second);\n",
    "    // Delete current node\n",
    "    delete n;\n",
    "}"
   ]
  },
  {
   "cell_type": "markdown",
   "metadata": {},
   "source": [
    "<h6>The insert method</h6>"
   ]
  },
  {
   "cell_type": "markdown",
   "metadata": {},
   "source": [
    "We start by visiting the root node and check if any of it's children match the first character on the string, this can be made in $O(1)$ on average with the unordered set. If the node has the carachter as it's child then you simply visit the child node, otherwise you create that child node an visit it, this process repeats with every single letter on the string until reaching the end of it, after reaching the end, the last node reached is marked as a end of word. When creating a new node the current node is marked as not being a leaf node.\n",
    "\n",
    "The code for this is presented bellow:"
   ]
  },
  {
   "cell_type": "code",
   "execution_count": null,
   "metadata": {
    "collapsed": true
   },
   "outputs": [],
   "source": [
    "void Trie::insert(string str){\n",
    "    Node* node = root; // Current node being visited\n",
    "    // Loop thru every letter on the String\n",
    "    for(char c: str){\n",
    "        // Adds a children node if it doesn't find any with that key\n",
    "        if(node->children.find(c) == node->children.end()){\n",
    "            node->children[c] = new Node();\n",
    "            node->isLeaf = false;\n",
    "        }\n",
    "        // Visit next node\n",
    "        node = node->children[c];\n",
    "    }\n",
    "    // Sets the end of the word\n",
    "    node->endOfWord = true;\n",
    "}"
   ]
  },
  {
   "cell_type": "markdown",
   "metadata": {},
   "source": [
    "<h6>The search method</h6>"
   ]
  },
  {
   "cell_type": "markdown",
   "metadata": {},
   "source": [
    "For searching we can take two approaches, one of them is to search for a complete word and the other is to search for a word prefix. Let's say I add the word \"hello\" on a empty trie, doing a full word search of the word \"hell\" in this trie should return false, while if you are matching only the prefix, it should return true. Our first code in this topic implements a search where only the prefix is matched a slight modification was made on the second one to match the entire word.\n",
    "\n",
    "The works by looping thru every carachter on the string and checking if there is a correspondent child node, visiting the node if it was found and returning false otherwise. The function will also return false in case it reaches a leaf node.f \n",
    "\n",
    "<b>Important:</b> if you a reading this on a Jupyter notebook please run only one of the codes. If you are tring to implement both in your code, please implement them with different names."
   ]
  },
  {
   "cell_type": "code",
   "execution_count": null,
   "metadata": {
    "collapsed": true
   },
   "outputs": [],
   "source": [
    "bool Trie::search(string str){\n",
    "    Node *node = root; // Current node\n",
    "    // Loop thru every character on the string\n",
    "    for(char c:str){\n",
    "        // Return false if key is not found or reach a leaf node\n",
    "        if(node->children.find(c) == node->children.end() || node->isLeaf)\n",
    "            return false;\n",
    "        // Visit next node\n",
    "        node = node->children[c];\n",
    "    }\n",
    "    // Once all charachters matched, returns true\n",
    "    return true;\n",
    "}"
   ]
  },
  {
   "cell_type": "markdown",
   "metadata": {},
   "source": [
    "The following code returns true only when the the entire word is matched"
   ]
  },
  {
   "cell_type": "code",
   "execution_count": null,
   "metadata": {
    "collapsed": true
   },
   "outputs": [],
   "source": [
    "bool Trie::search(string str){\n",
    "    Node *node = root; // Current node\n",
    "    // Loop thru every character on the string\n",
    "    for(char c:str){\n",
    "        // Return false if key is not found or reach a leaf node\n",
    "        if(node->children.find(c) == node->children.end() || node->isLeaf)\n",
    "            return false;\n",
    "        // Visit next node\n",
    "        node = node->children[c];\n",
    "    }\n",
    "    // Returns true once all charachter matched and you reached the end of a word\n",
    "    return node->endOfWord; // <-- MODIFIED!!!\n",
    "}"
   ]
  },
  {
   "cell_type": "markdown",
   "metadata": {},
   "source": [
    "With that we conclude our basic Trie."
   ]
  }
 ],
 "metadata": {
  "kernelspec": {
   "display_name": "C++11",
   "language": "",
   "name": "cling-cpp11"
  },
  "language_info": {
   "codemirror_mode": "c++",
   "file_extension": ".c++",
   "mimetype": "text/x-c++src",
   "name": "c++"
  }
 },
 "nbformat": 4,
 "nbformat_minor": 2
}
